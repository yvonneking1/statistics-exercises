{
 "cells": [
  {
   "cell_type": "markdown",
   "metadata": {},
   "source": [
    "For each of the following questions, formulate a null and alternative hypothesis (be as specific as you can be), then give an example of what a true positive, true negative, type I and type II errors would look like. Note that some of the questions are intentionally phrased in a vague way. It is your job to reword these as more precise questions that could be tested."
   ]
  },
  {
   "cell_type": "markdown",
   "metadata": {},
   "source": [
    "Has the network latency gone up since we switched internet service providers?"
   ]
  },
  {
   "cell_type": "markdown",
   "metadata": {},
   "source": [
    "Data SOurces:\n",
    "- Pre imposed speed check platforms\n",
    "- Surveys\n",
    "\n",
    "$h_0$ - Network Latency has not changed since switching internet providers\n",
    "\n",
    "$h_a$ - Network latency is significantly faster since switching provider\n",
    "\n",
    "\n",
    "True Positive:\n",
    "   - low p-value < alpha\n",
    "   - reject $H_0$\n",
    "   - average speed for new network is 93.98\n",
    "   - average speed of all networks 80\n",
    "   \n",
    "False Positive:\n",
    "   - small p-value\n",
    "   - reject $H_0$\n",
    "   - average speed for new network was taken during non-peak time and compared to averages of peak time usuage\n",
    "\n",
    "True Negative:\n",
    "   - higher p-value\n",
    "   - fail to reject $H_0$\n",
    "   - avg speed for new newtwork: 93.98\n",
    "   - avg speed of all networks: 92\n",
    "   \n",
    "False Negative:\n",
    "   - higher p-value\n",
    "   - fail to reject $H_0$\n",
    "   - avg speed of all networks was taken during peak time and being compared to an averagethat was take during non peak time\n"
   ]
  },
  {
   "cell_type": "markdown",
   "metadata": {},
   "source": [
    "Is the website redesign any good?\n",
    "\n",
    "Data Source\n",
    "- heat map of clicks\n",
    "- surveys\n",
    "\n",
    "$H_0$ - Website redisgn has had no impact on click rate\n",
    "\n",
    "$H_a$ - Website redisgn has had a drastic impact on click rates\n",
    "\n",
    "\n",
    "True Positive:\n",
    "   - concentrated rate of clicks on areas that are actionable\n",
    "   \n",
    "False Positive:\n",
    "   - heat map of previous web design is from several redesigns ago as opposed to the most recent version\n",
    "    \n",
    "True Negative:\n",
    "   - heat map of clicks is the same as before redesign\n",
    "       \n",
    "False Negative:\n",
    "   - heat maps were taken during different times of day\n",
    "\n",
    "    "
   ]
  },
  {
   "cell_type": "markdown",
   "metadata": {},
   "source": [
    "Is our television ad driving more sales?\n",
    "Data Source\n",
    "- Surveys\n",
    "- promo codes\n",
    "- outside marketing firm\n",
    "\n",
    "$H_0$ - Televison ads have no impact on consumer buying rates\n",
    "\n",
    "$H_a$ - Television ads drastically drives consumer buying rates\n",
    "\n",
    "True Positive:\n",
    "   - sales of the product that has been advertised has seen a spike in sales\n",
    "\n",
    "False Positive:\n",
    "   - a natural disaster has just occured causing a surge on various poducts\n",
    "\n",
    "True Negative:\n",
    "   - sales of product that was being advertised on TV has not seen a spike in sales and has remained neutral\n",
    "\n",
    "False Negative:\n",
    "   - ad ran during non-peak times \n"
   ]
  },
  {
   "cell_type": "code",
   "execution_count": null,
   "metadata": {},
   "outputs": [],
   "source": []
  }
 ],
 "metadata": {
  "kernelspec": {
   "display_name": "Python 3",
   "language": "python",
   "name": "python3"
  },
  "language_info": {
   "codemirror_mode": {
    "name": "ipython",
    "version": 3
   },
   "file_extension": ".py",
   "mimetype": "text/x-python",
   "name": "python",
   "nbconvert_exporter": "python",
   "pygments_lexer": "ipython3",
   "version": "3.7.4"
  }
 },
 "nbformat": 4,
 "nbformat_minor": 2
}
