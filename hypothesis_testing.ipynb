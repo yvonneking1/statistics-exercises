{
 "cells": [
  {
   "cell_type": "markdown",
   "metadata": {},
   "source": [
    "For each of the following questions, formulate a null and alternative hypothesis (be as specific as you can be), then give an example of what a true positive, true negative, type I and type II errors would look like. Note that some of the questions are intentionally phrased in a vague way. It is your job to reword these as more precise questions that could be tested."
   ]
  },
  {
   "cell_type": "markdown",
   "metadata": {},
   "source": [
    "Has the network latency gone up since we switched internet service providers?"
   ]
  },
  {
   "cell_type": "markdown",
   "metadata": {},
   "source": [
    "Data SOurces:\n",
    "- Pre imposed speed check platforms\n",
    "- Surveys\n",
    "\n",
    "$h_0$ - Network Latency has not changed since switching internet providers\n",
    "\n",
    "$h_a$ - Network latency is significantly faster since switching provider\n",
    "\n",
    "\n",
    "True Positive:\n",
    "   - low p-value < alpha\n",
    "   - reject $H_0$\n",
    "   - average speed for new network is 93.98\n",
    "   - average speed of all networks 80\n",
    "   \n",
    "False Positive:\n",
    "   - small p-value\n",
    "   - reject $H_0$\n",
    "   - average speed for new network was taken during non-peak time and compared to averages of peak time usuage\n",
    "\n",
    "True Negative:\n",
    "   - higher p-value\n",
    "   - fail to reject $H_0$\n",
    "   - avg speed for new newtwork: 93.98\n",
    "   - avg speed of all networks: 92\n",
    "   \n",
    "False Negative:\n",
    "   - higher p-value\n",
    "   - fail to reject $H_0$\n",
    "   - avg speed of all networks was taken during peak time and being compared to an averagethat was take during non peak time\n"
   ]
  },
  {
   "cell_type": "markdown",
   "metadata": {},
   "source": [
    "Is the website redesign any good?\n",
    "\n",
    "Data Source\n",
    "- heat map of clicks\n",
    "- surveys\n",
    "\n",
    "$H_0$ - Website redisgn has had no impact on click rate\n",
    "\n",
    "$H_a$ - Website redisgn has had a drastic impact on click rates\n",
    "\n",
    "\n",
    "True Positive:\n",
    "   - concentrated rate of clicks on areas that are actionable\n",
    "   \n",
    "False Positive:\n",
    "   - heat map of previous web design is from several redesigns ago as opposed to the most recent version\n",
    "    \n",
    "True Negative:\n",
    "   - heat map of clicks is the same as before redesign\n",
    "       \n",
    "False Negative:\n",
    "   - heat maps were taken during different times of day\n",
    "\n",
    "    "
   ]
  },
  {
   "cell_type": "markdown",
   "metadata": {},
   "source": [
    "Is our television ad driving more sales?\n",
    "Data Source\n",
    "- Surveys\n",
    "- promo codes\n",
    "- outside marketing firm\n",
    "\n",
    "$H_0$ - Televison ads have no impact on consumer buying rates\n",
    "\n",
    "$H_a$ - Television ads drastically drives consumer buying rates\n",
    "\n",
    "True Positive:\n",
    "   - sales of the product that has been advertised has seen a spike in sales\n",
    "\n",
    "False Positive:\n",
    "   - a natural disaster has just occured causing a surge on various poducts\n",
    "\n",
    "True Negative:\n",
    "   - sales of product that was being advertised on TV has not seen a spike in sales and has remained neutral\n",
    "\n",
    "False Negative:\n",
    "   - ad ran during non-peak times \n"
   ]
  },
  {
   "cell_type": "markdown",
   "metadata": {},
   "source": [
    "Ace Realty wants to determine whether the average time it takes to sell homes is different for its two offices. A sample of 40 sales from office #1 revealed a mean of 90 days and a standard deviation of 15 days. A sample of 50 sales from office #2 revealed a mean of 100 days and a standard deviation of 20 days. Use a .05 level of significance."
   ]
  },
  {
   "cell_type": "markdown",
   "metadata": {},
   "source": [
    "$H_0$ - average time to sell homes is the same at both locations.\n",
    "\n",
    "$H_a$ - average time to sell home is not the same at both locations"
   ]
  },
  {
   "cell_type": "code",
   "execution_count": 1,
   "metadata": {},
   "outputs": [],
   "source": [
    "from math import sqrt\n",
    "\n",
    "%matplotlib inline\n",
    "import matplotlib.pyplot as plt\n",
    "import seaborn as sns\n",
    "import pandas as pd\n",
    "\n",
    "from scipy import stats\n",
    "\n",
    "\n",
    "# x1 = df[df.study_strategy == 'flashcards'].exam_score\n",
    "# x2 = df[df.study_strategy == 'Winged It'].exam_score\n",
    "\n",
    "alpha = .05\n",
    "\n",
    "xbar1 = 90\n",
    "xbar2 = 100\n",
    "\n",
    "n1 = 40\n",
    "n2 = 50\n",
    "\n",
    "s1 = 15\n",
    "s2 = 20\n",
    "\n",
    "degf = (n1 + n2) - 2 # n - number of categories\n",
    "\n",
    "s_p = sqrt(\n",
    "    ((n1 - 1) * s1**2 + (n2 - 1) * s2**2)\n",
    "    /\n",
    "    (n1 + n2 - 2)\n",
    ")\n",
    "\n",
    "t = (xbar1 - xbar2) / (s_p * sqrt(1 / n1 + 1 / n2))"
   ]
  },
  {
   "cell_type": "code",
   "execution_count": 2,
   "metadata": {},
   "outputs": [
    {
     "data": {
      "text/plain": [
       "17.956702977389302"
      ]
     },
     "execution_count": 2,
     "metadata": {},
     "output_type": "execute_result"
    }
   ],
   "source": [
    "s_p"
   ]
  },
  {
   "cell_type": "code",
   "execution_count": 3,
   "metadata": {},
   "outputs": [
    {
     "data": {
      "text/plain": [
       "-2.6252287036468456"
      ]
     },
     "execution_count": 3,
     "metadata": {},
     "output_type": "execute_result"
    }
   ],
   "source": [
    "t"
   ]
  },
  {
   "cell_type": "code",
   "execution_count": 4,
   "metadata": {},
   "outputs": [],
   "source": [
    "p = stats.t(degf).sf(abs(t)) * 2"
   ]
  },
  {
   "cell_type": "code",
   "execution_count": 5,
   "metadata": {},
   "outputs": [
    {
     "data": {
      "text/plain": [
       "0.01020985244923939"
      ]
     },
     "execution_count": 5,
     "metadata": {},
     "output_type": "execute_result"
    }
   ],
   "source": [
    "p"
   ]
  },
  {
   "cell_type": "code",
   "execution_count": 6,
   "metadata": {},
   "outputs": [
    {
     "name": "stdout",
     "output_type": "stream",
     "text": [
      "\n",
      "Because p (0.010210) < alpha (0.05), we reject the null hypothesis:\n",
      "average time to sell homes is the same at both locations\n",
      "\n"
     ]
    }
   ],
   "source": [
    "print(f'''\n",
    "Because p ({p:.6f}) < alpha ({alpha}), we reject the null hypothesis:\n",
    "average time to sell homes is the same at both locations\n",
    "''')"
   ]
  },
  {
   "cell_type": "markdown",
   "metadata": {},
   "source": [
    "Load the mpg dataset and use it to answer the following questions:\n",
    "\n",
    "- Is there a difference in fuel-efficiency in cars from 2008 vs 1999?\n",
    "- Are compact cars more fuel-efficient than the average car?\n",
    "- Do manual cars get better gas mileage than automatic cars?"
   ]
  },
  {
   "cell_type": "markdown",
   "metadata": {},
   "source": [
    "$H_0$ - There is no difference in hwy fuel-efficiency for cars from 2008 nd 1999\n",
    "\n",
    "$H_a$ - There is a difference in hwy fuel-efficiency for cars from 2008 nd 1999"
   ]
  },
  {
   "cell_type": "code",
   "execution_count": 7,
   "metadata": {},
   "outputs": [],
   "source": [
    "from pydataset import data\n",
    "alpha = .05"
   ]
  },
  {
   "cell_type": "code",
   "execution_count": 8,
   "metadata": {},
   "outputs": [],
   "source": [
    "mpg = data(\"mpg\")"
   ]
  },
  {
   "cell_type": "code",
   "execution_count": 9,
   "metadata": {
    "scrolled": true
   },
   "outputs": [
    {
     "data": {
      "text/html": [
       "<div>\n",
       "<style scoped>\n",
       "    .dataframe tbody tr th:only-of-type {\n",
       "        vertical-align: middle;\n",
       "    }\n",
       "\n",
       "    .dataframe tbody tr th {\n",
       "        vertical-align: top;\n",
       "    }\n",
       "\n",
       "    .dataframe thead th {\n",
       "        text-align: right;\n",
       "    }\n",
       "</style>\n",
       "<table border=\"1\" class=\"dataframe\">\n",
       "  <thead>\n",
       "    <tr style=\"text-align: right;\">\n",
       "      <th></th>\n",
       "      <th>manufacturer</th>\n",
       "      <th>model</th>\n",
       "      <th>displ</th>\n",
       "      <th>year</th>\n",
       "      <th>cyl</th>\n",
       "      <th>trans</th>\n",
       "      <th>drv</th>\n",
       "      <th>cty</th>\n",
       "      <th>hwy</th>\n",
       "      <th>fl</th>\n",
       "      <th>class</th>\n",
       "    </tr>\n",
       "  </thead>\n",
       "  <tbody>\n",
       "    <tr>\n",
       "      <td>119</td>\n",
       "      <td>hyundai</td>\n",
       "      <td>tiburon</td>\n",
       "      <td>2.0</td>\n",
       "      <td>2008</td>\n",
       "      <td>4</td>\n",
       "      <td>auto(l4)</td>\n",
       "      <td>f</td>\n",
       "      <td>20</td>\n",
       "      <td>27</td>\n",
       "      <td>r</td>\n",
       "      <td>subcompact</td>\n",
       "    </tr>\n",
       "    <tr>\n",
       "      <td>50</td>\n",
       "      <td>dodge</td>\n",
       "      <td>dakota pickup 4wd</td>\n",
       "      <td>3.7</td>\n",
       "      <td>2008</td>\n",
       "      <td>6</td>\n",
       "      <td>auto(l4)</td>\n",
       "      <td>4</td>\n",
       "      <td>14</td>\n",
       "      <td>18</td>\n",
       "      <td>r</td>\n",
       "      <td>pickup</td>\n",
       "    </tr>\n",
       "    <tr>\n",
       "      <td>165</td>\n",
       "      <td>subaru</td>\n",
       "      <td>forester awd</td>\n",
       "      <td>2.5</td>\n",
       "      <td>2008</td>\n",
       "      <td>4</td>\n",
       "      <td>auto(l4)</td>\n",
       "      <td>4</td>\n",
       "      <td>18</td>\n",
       "      <td>23</td>\n",
       "      <td>p</td>\n",
       "      <td>suv</td>\n",
       "    </tr>\n",
       "    <tr>\n",
       "      <td>114</td>\n",
       "      <td>hyundai</td>\n",
       "      <td>sonata</td>\n",
       "      <td>2.5</td>\n",
       "      <td>1999</td>\n",
       "      <td>6</td>\n",
       "      <td>manual(m5)</td>\n",
       "      <td>f</td>\n",
       "      <td>18</td>\n",
       "      <td>26</td>\n",
       "      <td>r</td>\n",
       "      <td>midsize</td>\n",
       "    </tr>\n",
       "    <tr>\n",
       "      <td>26</td>\n",
       "      <td>chevrolet</td>\n",
       "      <td>corvette</td>\n",
       "      <td>6.2</td>\n",
       "      <td>2008</td>\n",
       "      <td>8</td>\n",
       "      <td>manual(m6)</td>\n",
       "      <td>r</td>\n",
       "      <td>16</td>\n",
       "      <td>26</td>\n",
       "      <td>p</td>\n",
       "      <td>2seater</td>\n",
       "    </tr>\n",
       "    <tr>\n",
       "      <td>159</td>\n",
       "      <td>pontiac</td>\n",
       "      <td>grand prix</td>\n",
       "      <td>5.3</td>\n",
       "      <td>2008</td>\n",
       "      <td>8</td>\n",
       "      <td>auto(s4)</td>\n",
       "      <td>f</td>\n",
       "      <td>16</td>\n",
       "      <td>25</td>\n",
       "      <td>p</td>\n",
       "      <td>midsize</td>\n",
       "    </tr>\n",
       "    <tr>\n",
       "      <td>110</td>\n",
       "      <td>hyundai</td>\n",
       "      <td>sonata</td>\n",
       "      <td>2.4</td>\n",
       "      <td>1999</td>\n",
       "      <td>4</td>\n",
       "      <td>manual(m5)</td>\n",
       "      <td>f</td>\n",
       "      <td>18</td>\n",
       "      <td>27</td>\n",
       "      <td>r</td>\n",
       "      <td>midsize</td>\n",
       "    </tr>\n",
       "    <tr>\n",
       "      <td>77</td>\n",
       "      <td>ford</td>\n",
       "      <td>expedition 2wd</td>\n",
       "      <td>5.4</td>\n",
       "      <td>2008</td>\n",
       "      <td>8</td>\n",
       "      <td>auto(l6)</td>\n",
       "      <td>r</td>\n",
       "      <td>12</td>\n",
       "      <td>18</td>\n",
       "      <td>r</td>\n",
       "      <td>suv</td>\n",
       "    </tr>\n",
       "    <tr>\n",
       "      <td>153</td>\n",
       "      <td>nissan</td>\n",
       "      <td>pathfinder 4wd</td>\n",
       "      <td>4.0</td>\n",
       "      <td>2008</td>\n",
       "      <td>6</td>\n",
       "      <td>auto(l5)</td>\n",
       "      <td>4</td>\n",
       "      <td>14</td>\n",
       "      <td>20</td>\n",
       "      <td>p</td>\n",
       "      <td>suv</td>\n",
       "    </tr>\n",
       "    <tr>\n",
       "      <td>228</td>\n",
       "      <td>volkswagen</td>\n",
       "      <td>passat</td>\n",
       "      <td>1.8</td>\n",
       "      <td>1999</td>\n",
       "      <td>4</td>\n",
       "      <td>manual(m5)</td>\n",
       "      <td>f</td>\n",
       "      <td>21</td>\n",
       "      <td>29</td>\n",
       "      <td>p</td>\n",
       "      <td>midsize</td>\n",
       "    </tr>\n",
       "  </tbody>\n",
       "</table>\n",
       "</div>"
      ],
      "text/plain": [
       "    manufacturer              model  displ  year  cyl       trans drv  cty  \\\n",
       "119      hyundai            tiburon    2.0  2008    4    auto(l4)   f   20   \n",
       "50         dodge  dakota pickup 4wd    3.7  2008    6    auto(l4)   4   14   \n",
       "165       subaru       forester awd    2.5  2008    4    auto(l4)   4   18   \n",
       "114      hyundai             sonata    2.5  1999    6  manual(m5)   f   18   \n",
       "26     chevrolet           corvette    6.2  2008    8  manual(m6)   r   16   \n",
       "159      pontiac         grand prix    5.3  2008    8    auto(s4)   f   16   \n",
       "110      hyundai             sonata    2.4  1999    4  manual(m5)   f   18   \n",
       "77          ford     expedition 2wd    5.4  2008    8    auto(l6)   r   12   \n",
       "153       nissan     pathfinder 4wd    4.0  2008    6    auto(l5)   4   14   \n",
       "228   volkswagen             passat    1.8  1999    4  manual(m5)   f   21   \n",
       "\n",
       "     hwy fl       class  \n",
       "119   27  r  subcompact  \n",
       "50    18  r      pickup  \n",
       "165   23  p         suv  \n",
       "114   26  r     midsize  \n",
       "26    26  p     2seater  \n",
       "159   25  p     midsize  \n",
       "110   27  r     midsize  \n",
       "77    18  r         suv  \n",
       "153   20  p         suv  \n",
       "228   29  p     midsize  "
      ]
     },
     "execution_count": 9,
     "metadata": {},
     "output_type": "execute_result"
    }
   ],
   "source": [
    "mpg.sample(10)"
   ]
  },
  {
   "cell_type": "code",
   "execution_count": 10,
   "metadata": {},
   "outputs": [],
   "source": [
    "x1 = mpg[mpg.year == 2008].hwy"
   ]
  },
  {
   "cell_type": "code",
   "execution_count": 11,
   "metadata": {},
   "outputs": [],
   "source": [
    "x2 = mpg[mpg.year == 1999].hwy"
   ]
  },
  {
   "cell_type": "code",
   "execution_count": 12,
   "metadata": {},
   "outputs": [],
   "source": [
    "t_stat, p = stats.ttest_ind(x1, x2)"
   ]
  },
  {
   "cell_type": "code",
   "execution_count": 13,
   "metadata": {},
   "outputs": [
    {
     "data": {
      "text/plain": [
       "0.03286431672888292"
      ]
     },
     "execution_count": 13,
     "metadata": {},
     "output_type": "execute_result"
    }
   ],
   "source": [
    "t_stat"
   ]
  },
  {
   "cell_type": "code",
   "execution_count": 14,
   "metadata": {},
   "outputs": [
    {
     "data": {
      "text/plain": [
       "0.9738110448529322"
      ]
     },
     "execution_count": 14,
     "metadata": {},
     "output_type": "execute_result"
    }
   ],
   "source": [
    "p"
   ]
  },
  {
   "cell_type": "code",
   "execution_count": 15,
   "metadata": {},
   "outputs": [
    {
     "name": "stdout",
     "output_type": "stream",
     "text": [
      "\n",
      "Because p (0.9738) > alpha (0.05), we fail to reject the null hypothesis\n",
      "\n"
     ]
    }
   ],
   "source": [
    "print(f'''\n",
    "Because p ({p:.4}) > alpha ({alpha}), we fail to reject the null hypothesis\n",
    "''')"
   ]
  },
  {
   "cell_type": "markdown",
   "metadata": {},
   "source": [
    "$H_0$ - There is no difference in hwy fuel efficency between compact cars and regular cars\n",
    "\n",
    "$H_a$ - There is a difference in hwy fuel efficency between compact cars and regular cars"
   ]
  },
  {
   "cell_type": "code",
   "execution_count": 16,
   "metadata": {},
   "outputs": [],
   "source": [
    "x1 = mpg[mpg[\"class\"] == \"compact\"].hwy"
   ]
  },
  {
   "cell_type": "code",
   "execution_count": 17,
   "metadata": {},
   "outputs": [],
   "source": [
    "x2 = mpg[mpg[\"class\"] != \"compact\"].hwy"
   ]
  },
  {
   "cell_type": "code",
   "execution_count": 18,
   "metadata": {},
   "outputs": [],
   "source": [
    "t_stat, p = stats.ttest_ind(x1, x2)"
   ]
  },
  {
   "cell_type": "code",
   "execution_count": 19,
   "metadata": {},
   "outputs": [
    {
     "data": {
      "text/plain": [
       "6.844017913682101"
      ]
     },
     "execution_count": 19,
     "metadata": {},
     "output_type": "execute_result"
    }
   ],
   "source": [
    "t_stat"
   ]
  },
  {
   "cell_type": "code",
   "execution_count": 20,
   "metadata": {},
   "outputs": [
    {
     "data": {
      "text/plain": [
       "6.802262127570768e-11"
      ]
     },
     "execution_count": 20,
     "metadata": {},
     "output_type": "execute_result"
    }
   ],
   "source": [
    "p"
   ]
  },
  {
   "cell_type": "code",
   "execution_count": 21,
   "metadata": {},
   "outputs": [
    {
     "name": "stdout",
     "output_type": "stream",
     "text": [
      "\n",
      "Because p (0.000000000068) < alpha (0.05), we reject the null hypothesis\n",
      "\n"
     ]
    }
   ],
   "source": [
    "print(f'''\n",
    "Because p ({p:.12f}) < alpha ({alpha}), we reject the null hypothesis\n",
    "''')"
   ]
  },
  {
   "cell_type": "markdown",
   "metadata": {},
   "source": [
    "$H_0$ - Both manual cars and automatic cars get the same hwy gas mileage\n",
    "\n",
    "$H_a$ - The hwy gas mileage is different for manual cars and automatic cars"
   ]
  },
  {
   "cell_type": "code",
   "execution_count": 22,
   "metadata": {},
   "outputs": [],
   "source": [
    "alpha = 0.05"
   ]
  },
  {
   "cell_type": "code",
   "execution_count": 23,
   "metadata": {},
   "outputs": [],
   "source": [
    "x1 = mpg[mpg[\"trans\"].str.contains(\"manual\")].hwy"
   ]
  },
  {
   "cell_type": "code",
   "execution_count": 24,
   "metadata": {},
   "outputs": [],
   "source": [
    "x2 = mpg[mpg[\"trans\"].str.contains(\"auto\")].hwy"
   ]
  },
  {
   "cell_type": "code",
   "execution_count": 25,
   "metadata": {},
   "outputs": [],
   "source": [
    "t_stat, p = stats.ttest_ind(x1, x2)"
   ]
  },
  {
   "cell_type": "code",
   "execution_count": 26,
   "metadata": {},
   "outputs": [
    {
     "data": {
      "text/plain": [
       "4.368349972819688"
      ]
     },
     "execution_count": 26,
     "metadata": {},
     "output_type": "execute_result"
    }
   ],
   "source": [
    "t_stat"
   ]
  },
  {
   "cell_type": "code",
   "execution_count": 27,
   "metadata": {},
   "outputs": [
    {
     "data": {
      "text/plain": [
       "1.888044765552951e-05"
      ]
     },
     "execution_count": 27,
     "metadata": {},
     "output_type": "execute_result"
    }
   ],
   "source": [
    "p"
   ]
  },
  {
   "cell_type": "code",
   "execution_count": 28,
   "metadata": {},
   "outputs": [
    {
     "name": "stdout",
     "output_type": "stream",
     "text": [
      "\n",
      "Because p (0.0000189) < alpha (0.05), we reject the null hypothesis\n",
      "\n"
     ]
    }
   ],
   "source": [
    "print(f'''\n",
    "Because p ({p:.7f}) < alpha ({alpha}), we reject the null hypothesis\n",
    "''')"
   ]
  }
 ],
 "metadata": {
  "kernelspec": {
   "display_name": "Python 3",
   "language": "python",
   "name": "python3"
  },
  "language_info": {
   "codemirror_mode": {
    "name": "ipython",
    "version": 3
   },
   "file_extension": ".py",
   "mimetype": "text/x-python",
   "name": "python",
   "nbconvert_exporter": "python",
   "pygments_lexer": "ipython3",
   "version": "3.7.4"
  }
 },
 "nbformat": 4,
 "nbformat_minor": 2
}
